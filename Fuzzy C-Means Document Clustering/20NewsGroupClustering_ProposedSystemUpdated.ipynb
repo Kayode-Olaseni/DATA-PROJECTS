{
 "cells": [
  {
   "cell_type": "code",
   "execution_count": 1,
   "metadata": {},
   "outputs": [],
   "source": [
    "# Importation of necessary libraries\n",
    "from sklearn.datasets import fetch_20newsgroups\n",
    "from sklearn.feature_extraction.text import TfidfVectorizer\n",
    "from sklearn import metrics\n",
    "from sklearn.preprocessing import StandardScaler\n",
    "from sklearn.decomposition import PCA\n",
    "import matplotlib.pyplot as plt\n",
    "import numpy as np"
   ]
  },
  {
   "cell_type": "code",
   "execution_count": 2,
   "metadata": {},
   "outputs": [],
   "source": [
    "#Import 20 News Group dataset\n",
    "# categories = ['comp.graphics', 'comp.os.ms-windows.misc', 'comp.sys.ibm.pc.hardware', 'comp.sys.mac.hardware', 'comp.windows.x', 'rec.autos', 'rec.motorcycles', 'rec.sport.baseball', 'rec.sport.hockey', 'sci.crypt', 'sci.electronics', 'sci.med', 'sci.space', 'misc.forsale', 'talk.politics.misc', 'talk.politics.guns', 'talk.politics.mideast', 'talk.religion.misc', 'alt.atheism', 'soc.religion.christian']\n",
    "\n",
    "categories = ['comp.graphics']\n",
    "# categories = ['comp.graphics', 'comp.os.ms-windows.misc']\n",
    "# categories = ['comp.sys.ibm.pc.hardware', 'comp.sys.mac.hardware'] \n",
    "# categories = ['comp.windows.x', 'rec.autos'] \n",
    "# categories = ['rec.motorcycles', 'rec.sport.baseball'] \n",
    "# categories = ['rec.sport.hockey', 'sci.crypt'] \n",
    "# categories = ['sci.electronics', 'sci.med'] \n",
    "# categories = ['sci.space', 'misc.forsale'] \n",
    "# categories = ['talk.politics.misc', 'talk.politics.guns'] \n",
    "# categories = ['talk.politics.mideast', 'talk.religion.misc'] \n",
    "# categories = ['alt.atheism', 'soc.religion.christian']\n",
    "\n",
    "main_dataset = fetch_20newsgroups(subset='train',remove=('headers', 'footers', 'quotes'), categories=categories)\n",
    "dataset = main_dataset.data\n",
    "dataset_labels = main_dataset.target"
   ]
  },
  {
   "cell_type": "code",
   "execution_count": 7,
   "metadata": {},
   "outputs": [],
   "source": [
    "# dataset"
   ]
  },
  {
   "cell_type": "code",
   "execution_count": 20,
   "metadata": {},
   "outputs": [],
   "source": [
    "#Perform word-based ngram, stemming, stopword removal and term frequency count\n",
    "from sklearn.feature_extraction.text import CountVectorizer\n",
    "vectorizer = CountVectorizer(analyzer='word',ngram_range=(1, 1))\n",
    "X = vectorizer.fit_transform(dataset)\n",
    "# print(X)\n",
    "# print(vectorizer.get_feature_names())"
   ]
  },
  {
   "cell_type": "code",
   "execution_count": 21,
   "metadata": {},
   "outputs": [
    {
     "name": "stdout",
     "output_type": "stream",
     "text": [
      "(584, 10866)\n"
     ]
    }
   ],
   "source": [
    "#Convert to vector space\n",
    "from sklearn.feature_extraction.text import TfidfTransformer\n",
    "tfidf_transformer = TfidfTransformer()\n",
    "X_tfidf = tfidf_transformer.fit_transform(X)\n",
    "print(X_tfidf.shape)\n",
    "# print(X_tfidf)"
   ]
  },
  {
   "cell_type": "code",
   "execution_count": 22,
   "metadata": {},
   "outputs": [
    {
     "name": "stdout",
     "output_type": "stream",
     "text": [
      "(584, 1000)\n",
      "[[0.         0.         0.         ... 0.31262686 0.31262686 0.37357309]\n",
      " [0.         0.         0.         ... 0.26862644 0.28698109 0.54332336]\n",
      " [0.         0.         0.         ... 0.17724211 0.1937025  0.28010164]\n",
      " ...\n",
      " [0.         0.         0.         ... 0.21162742 0.26184655 0.31931719]\n",
      " [0.         0.         0.         ... 0.17909503 0.25584592 0.31112576]\n",
      " [0.         0.         0.         ... 0.23142843 0.26425504 0.39610886]]\n"
     ]
    }
   ],
   "source": [
    "#Retrieve 1000 features as done by the base work\n",
    "X_tfidf_arr = X_tfidf.toarray()\n",
    "X_tfidf_arr = X_tfidf_arr.tolist()\n",
    "selected_features_list = []\n",
    "n = 1000\n",
    "for X_arr in X_tfidf_arr:\n",
    "    X_arr.sort() \n",
    "    selected_features = X_arr[-n:]\n",
    "    selected_features_list.append(selected_features)\n",
    "\n",
    "selected_features_arr = np.array(selected_features_list)\n",
    "print(selected_features_arr.shape)\n",
    "print(selected_features_arr)"
   ]
  },
  {
   "cell_type": "code",
   "execution_count": 13,
   "metadata": {},
   "outputs": [
    {
     "name": "stdout",
     "output_type": "stream",
     "text": [
      "<class 'numpy.ndarray'>\n"
     ]
    }
   ],
   "source": [
    "print(type(selected_features_arr))"
   ]
  },
  {
   "cell_type": "code",
   "execution_count": 25,
   "metadata": {},
   "outputs": [
    {
     "name": "stdout",
     "output_type": "stream",
     "text": [
      "Number of components to explain 90% Variance is 6\n"
     ]
    }
   ],
   "source": [
    "# Dimensionality reduction with PCA\n",
    "pca=PCA(.90)  \n",
    "pca.fit(selected_features_arr)\n",
    "no_of_components = pca.n_components_\n",
    "print('Number of components to explain 90% Variance is',no_of_components)"
   ]
  },
  {
   "cell_type": "code",
   "execution_count": 27,
   "metadata": {},
   "outputs": [],
   "source": [
    "pca2 = PCA(no_of_components)\n",
    "selected_features_arr2 = pca2.fit_transform(selected_features_arr)"
   ]
  },
  {
   "cell_type": "code",
   "execution_count": 28,
   "metadata": {},
   "outputs": [
    {
     "data": {
      "text/plain": [
       "array([[-0.15604564,  0.11457052, -0.13978061,  0.00340629, -0.0940643 ,\n",
       "         0.01740509],\n",
       "       [-0.10137351,  0.26999537, -0.18336016, -0.03436428,  0.1932964 ,\n",
       "        -0.01976536],\n",
       "       [-0.3421057 ,  0.19747654, -0.05718213, -0.1975575 ,  0.0537408 ,\n",
       "         0.0374402 ],\n",
       "       ...,\n",
       "       [-0.28913713,  0.13205905, -0.08752961, -0.04149021, -0.08200008,\n",
       "         0.07638522],\n",
       "       [-0.37159873,  0.19621596, -0.06291056, -0.05813106, -0.02229018,\n",
       "         0.10037199],\n",
       "       [-0.16112982,  0.01420954, -0.0803892 ,  0.04329908, -0.05395955,\n",
       "         0.06893661]])"
      ]
     },
     "execution_count": 28,
     "metadata": {},
     "output_type": "execute_result"
    }
   ],
   "source": [
    "selected_features_arr2"
   ]
  },
  {
   "cell_type": "code",
   "execution_count": 29,
   "metadata": {},
   "outputs": [],
   "source": [
    "#Function to compute improved square cosine similarity measure\n",
    "from numpy import dot\n",
    "from numpy.linalg import norm\n",
    "import math\n",
    "\n",
    "def improved_sqrt_cos_sim(a, b):\n",
    "    outter_isc_sim = []\n",
    "    for i in a:\n",
    "        inner_isc_sim = []\n",
    "        for j in b:\n",
    "            dot_ij = dot(i, j)\n",
    "            if dot_ij < 0:\n",
    "                dot_ij = 0\n",
    "            numerator = math.sqrt(dot_ij)\n",
    "            denominator = math.sqrt(norm(i))*math.sqrt(norm(j))\n",
    "            \n",
    "            if denominator == 0:\n",
    "                isc_sim = 0\n",
    "            else:\n",
    "                isc_sim = numerator / denominator\n",
    "                \n",
    "            inner_isc_sim.append(isc_sim)\n",
    "        outter_isc_sim.append(inner_isc_sim)\n",
    "    return np.array(outter_isc_sim)"
   ]
  },
  {
   "cell_type": "code",
   "execution_count": 31,
   "metadata": {},
   "outputs": [
    {
     "name": "stdout",
     "output_type": "stream",
     "text": [
      "[[1.         0.72756928 0.82558024 ... 0.94980437 0.90493499 0.91712136]\n",
      " [0.72756928 1.         0.80432756 ... 0.68576458 0.74997167 0.5166517 ]\n",
      " [0.82558024 0.80432756 1.         ... 0.93040428 0.96147531 0.76188054]\n",
      " ...\n",
      " [0.94980437 0.68576458 0.93040428 ... 1.         0.98734305 0.9382726 ]\n",
      " [0.90493499 0.74997167 0.96147531 ... 0.98734305 1.         0.89983382]\n",
      " [0.91712136 0.5166517  0.76188054 ... 0.9382726  0.89983382 1.        ]]\n"
     ]
    },
    {
     "data": {
      "text/plain": [
       "(584, 584)"
      ]
     },
     "execution_count": 31,
     "metadata": {},
     "output_type": "execute_result"
    }
   ],
   "source": [
    "#Compute improved square cosine similarity measure\n",
    "isc_similarities = improved_sqrt_cos_sim(selected_features_arr2, selected_features_arr2)\n",
    "print(isc_similarities)\n",
    "isc_similarities.shape"
   ]
  },
  {
   "cell_type": "code",
   "execution_count": 33,
   "metadata": {},
   "outputs": [],
   "source": [
    "#Function to calculate purity score\n",
    "def purity_score(y_true, y_pred):\n",
    "    # matrix which will hold the majority-voted labels\n",
    "    y_voted_labels = np.zeros(y_true.shape)\n",
    "    # Ordering labels\n",
    "    ## Labels might be missing e.g with set like 0,2 where 1 is missing\n",
    "    ## First find the unique labels, then map the labels to an ordered set\n",
    "    ## 0,2 should become 0,1\n",
    "    labels = np.unique(y_true)\n",
    "    ordered_labels = np.arange(labels.shape[0])\n",
    "    for k in range(labels.shape[0]):\n",
    "        y_true[y_true==labels[k]] = ordered_labels[k]\n",
    "    # Update unique labels\n",
    "    labels = np.unique(y_true)\n",
    "    # We set the number of bins to be n_classes+2 so that \n",
    "    # we count the actual occurence of classes between two consecutive bin\n",
    "    # the bigger being excluded [bin_i, bin_i+1[\n",
    "    bins = np.concatenate((labels, [np.max(labels)+1]), axis=0)\n",
    "\n",
    "    for cluster in np.unique(y_pred):\n",
    "        hist, _ = np.histogram(y_true[y_pred==cluster], bins=bins)\n",
    "        # Find the most present label in the cluster\n",
    "        winner = np.argmax(hist)\n",
    "        y_voted_labels[y_pred==cluster] = winner\n",
    "    \n",
    "    return accuracy_score(y_true, y_voted_labels)"
   ]
  },
  {
   "cell_type": "code",
   "execution_count": 34,
   "metadata": {},
   "outputs": [
    {
     "name": "stdout",
     "output_type": "stream",
     "text": [
      "Optimal k: 3\n"
     ]
    },
    {
     "data": {
      "image/png": "[encoded data removed]",
      "text/plain": [
       "<Figure size 432x288 with 1 Axes>"
      ]
     },
     "metadata": {
      "needs_background": "light"
     },
     "output_type": "display_data"
    }
   ],
   "source": [
    "#Calculate silhouette for a range of number of cluster\n",
    "from fcmeans import FCM\n",
    "from matplotlib import pyplot as plt\n",
    "from seaborn import scatterplot as scatter\n",
    "from sklearn.metrics import silhouette_score\n",
    "\n",
    "sil = []\n",
    "K = range(2, 10)\n",
    "for i in K:\n",
    "    fcm = FCM(n_clusters=i)\n",
    "    fcm.fit(isc_similarities)\n",
    "    fcm_labels  = fcm.u.argmax(axis=1)\n",
    "    sil.append(silhouette_score(isc_similarities, fcm_labels, metric = 'euclidean'))\n",
    "\n",
    "# plot\n",
    "K_list = list(K)\n",
    "opt_k = K_list[sil.index(max(sil))]\n",
    "print(\"Optimal k:\", opt_k) \n",
    "plt.plot(K, sil, 'bx-', marker='o')\n",
    "plt.xlabel('Number of clusters')\n",
    "plt.ylabel('Average silhouette width')\n",
    "plt.title('Silhouette score for optimal k')\n",
    "plt.show()"
   ]
  },
  {
   "cell_type": "code",
   "execution_count": 35,
   "metadata": {},
   "outputs": [],
   "source": [
    "no_of_clusters = 3"
   ]
  },
  {
   "cell_type": "code",
   "execution_count": 39,
   "metadata": {},
   "outputs": [],
   "source": [
    "# fit the fuzzy-c-means\n",
    "from fcmeans import FCM\n",
    "from matplotlib import pyplot as plt\n",
    "from seaborn import scatterplot as scatter\n",
    "\n",
    "fcm = FCM(n_clusters=no_of_clusters)\n",
    "fcm.fit(isc_similarities)\n",
    "\n",
    "# outputs\n",
    "fcm_memberships  = fcm.u\n",
    "fcm_pred_labels  = fcm.u.argmax(axis=1)\n",
    "fcm_centers = fcm.centers"
   ]
  },
  {
   "cell_type": "code",
   "execution_count": 40,
   "metadata": {},
   "outputs": [
    {
     "data": {
      "text/plain": [
       "0.261986301369863"
      ]
     },
     "execution_count": 40,
     "metadata": {},
     "output_type": "execute_result"
    }
   ],
   "source": [
    "#Get proposed system cluster accuracy score\n",
    "from sklearn.metrics import accuracy_score\n",
    "accuracy_score(dataset_labels, fcm_pred_labels)"
   ]
  },
  {
   "cell_type": "code",
   "execution_count": 41,
   "metadata": {},
   "outputs": [
    {
     "data": {
      "text/plain": [
       "1.0"
      ]
     },
     "execution_count": 41,
     "metadata": {},
     "output_type": "execute_result"
    }
   ],
   "source": [
    "purity_score(dataset_labels, fcm_pred_labels)"
   ]
  },
  {
   "cell_type": "code",
   "execution_count": null,
   "metadata": {},
   "outputs": [],
   "source": []
  }
 ],
 "metadata": {
  "kernelspec": {
   "display_name": "Python 3",
   "language": "python",
   "name": "python3"
  },
  "language_info": {
   "codemirror_mode": {
    "name": "ipython",
    "version": 3
   },
   "file_extension": ".py",
   "mimetype": "text/x-python",
   "name": "python",
   "nbconvert_exporter": "python",
   "pygments_lexer": "ipython3",
   "version": "3.7.6"
  }
 },
 "nbformat": 4,
 "nbformat_minor": 4
}
